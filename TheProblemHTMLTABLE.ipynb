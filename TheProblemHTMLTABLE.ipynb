{
 "cells": [
  {
   "cell_type": "code",
   "execution_count": 23,
   "metadata": {},
   "outputs": [],
   "source": [
    "from pymongo import MongoClient\n",
    "import pymongo "
   ]
  },
  {
   "cell_type": "code",
   "execution_count": 24,
   "metadata": {},
   "outputs": [
    {
     "name": "stdout",
     "output_type": "stream",
     "text": [
      "Connected successfully!!!\n"
     ]
    }
   ],
   "source": [
    "try: \n",
    "    conn = MongoClient(\"mongodb://localhost:27017/\") \n",
    "    print(\"Connected successfully!!!\") \n",
    "except:   \n",
    "    print(\"Could not connect to MongoDB\") "
   ]
  },
  {
   "cell_type": "code",
   "execution_count": 25,
   "metadata": {},
   "outputs": [],
   "source": [
    "mydb = conn[\"mars_db\"]\n",
    "mycol = mydb[\"mars\"]"
   ]
  },
  {
   "cell_type": "code",
   "execution_count": 35,
   "metadata": {},
   "outputs": [
    {
     "ename": "SyntaxError",
     "evalue": "invalid syntax (<ipython-input-35-d6f3fd8b8532>, line 1)",
     "output_type": "error",
     "traceback": [
      "\u001b[0;36m  File \u001b[0;32m\"<ipython-input-35-d6f3fd8b8532>\"\u001b[0;36m, line \u001b[0;32m1\u001b[0m\n\u001b[0;31m    mars_scrape = {'mars_news': \"HiRISE Views NASA's InSight and Curiosity on Mars\", 'mars_paragraph': 'New images taken from space offer the clearest orbital glimpse yet of InSight as well as a view of Curiosity rolling along.', 'mars_image': 'https://www.jpl.nasa.gov/spaceimages/images/wallpaper/PIA23488-640x350.jpg', 'mars_weather': 'InSight sol 314 (2019-10-15) low -102.8ºC (-153.0ºF) high -24.8ºC (-12.6ºF)\\nwinds from the SSE at 4.9 m/s (11.1 mph) gusting to 19.7 m/s (44.0 mph)\\npressure at 7.20 hPapic.twitter.com/VONawbIeG4', 'mars_facts': <bound method DataFrame.to_html of                                     Mars            Earth\u001b[0m\n\u001b[0m                                                                                                                                                                                                                                                                                                                                                                                                                                                                                                                                                                        ^\u001b[0m\n\u001b[0;31mSyntaxError\u001b[0m\u001b[0;31m:\u001b[0m invalid syntax\n"
     ]
    }
   ],
   "source": [
    "mars_scrape = {{'mars_news': \"HiRISE Views NASA's InSight and Curiosity on Mars\", 'mars_paragraph': 'New images taken from space offer the clearest orbital glimpse yet of InSight as well as a view of Curiosity rolling along.', 'mars_image': 'https://www.jpl.nasa.gov/spaceimages/images/wallpaper/PIA23488-640x350.jpg', 'mars_weather': 'InSight sol 314 (2019-10-15) low -102.8ºC (-153.0ºF) high -24.8ºC (-12.6ºF)\\nwinds from the SSE at 4.9 m/s (11.1 mph) gusting to 19.7 m/s (44.0 mph)\\npressure at 7.20 hPapic.twitter.com/VONawbIeG4', 'mars_facts': [                                    Mars            Earth\n",
    "Mars - Earth Comparison                                  \n",
    "Diameter:                       6,779 km        12,742 km\n",
    "Mass:                    6.39 × 10^23 kg  5.97 × 10^24 kg\n",
    "Moons:                                 2                1\n",
    "Distance from Sun:        227,943,824 km   149,598,262 km\n",
    "Length of Year:           687 Earth days      365.24 days\n",
    "Temperature:               -153 to 20 °C      -88 to 58°C,                       0                              1\n",
    "0  Equatorial Diameter:                       6,792 km\n",
    "1       Polar Diameter:                       6,752 km\n",
    "2                 Mass:  6.39 × 10^23 kg (0.11 Earths)\n",
    "3                Moons:            2 (Phobos & Deimos)\n",
    "4       Orbit Distance:       227,943,824 km (1.38 AU)\n",
    "5         Orbit Period:           687 days (1.9 years)\n",
    "6  Surface Temperature:                   -87 to -5 °C\n",
    "7         First Record:              2nd millennium BC\n",
    "8          Recorded By:           Egyptian astronomers], 'mars_hemisphere': ['https://astrogeology.usgs.gov/search/map/Mars/Viking/cerberus_enhanced', 'https://astrogeology.usgs.gov/search/map/Mars/Viking/schiaparelli_enhanced', 'https://astrogeology.usgs.gov/search/map/Mars/Viking/syrtis_major_enhanced', 'https://astrogeology.usgs.gov/search/map/Mars/Viking/valles_marineris_enhanced']}"
   ]
  },
  {
   "cell_type": "code",
   "execution_count": 33,
   "metadata": {},
   "outputs": [],
   "source": [
    "result = mycol.insert_one({}, mars_scrape)\n"
   ]
  },
  {
   "cell_type": "code",
   "execution_count": 34,
   "metadata": {},
   "outputs": [
    {
     "name": "stderr",
     "output_type": "stream",
     "text": [
      "//anaconda3/lib/python3.7/site-packages/ipykernel_launcher.py:1: DeprecationWarning: update is deprecated. Use replace_one, update_one or update_many instead.\n",
      "  \"\"\"Entry point for launching an IPython kernel.\n"
     ]
    },
    {
     "ename": "TypeError",
     "evalue": "spec must be an instance of dict, bson.son.SON, or any other type that inherits from collections.Mapping",
     "output_type": "error",
     "traceback": [
      "\u001b[0;31m---------------------------------------------------------------------------\u001b[0m",
      "\u001b[0;31mTypeError\u001b[0m                                 Traceback (most recent call last)",
      "\u001b[0;32m<ipython-input-34-cab29d6d7736>\u001b[0m in \u001b[0;36m<module>\u001b[0;34m\u001b[0m\n\u001b[0;32m----> 1\u001b[0;31m \u001b[0mresult\u001b[0m \u001b[0;34m=\u001b[0m \u001b[0mmycol\u001b[0m\u001b[0;34m.\u001b[0m\u001b[0mupdate\u001b[0m\u001b[0;34m(\u001b[0m\u001b[0;34m*\u001b[0m\u001b[0mmars_scrape\u001b[0m\u001b[0;34m)\u001b[0m\u001b[0;34m\u001b[0m\u001b[0;34m\u001b[0m\u001b[0m\n\u001b[0m",
      "\u001b[0;32m//anaconda3/lib/python3.7/site-packages/pymongo/collection.py\u001b[0m in \u001b[0;36mupdate\u001b[0;34m(self, spec, document, upsert, manipulate, multi, check_keys, **kwargs)\u001b[0m\n\u001b[1;32m   3195\u001b[0m         warnings.warn(\"update is deprecated. Use replace_one, update_one or \"\n\u001b[1;32m   3196\u001b[0m                       \"update_many instead.\", DeprecationWarning, stacklevel=2)\n\u001b[0;32m-> 3197\u001b[0;31m         \u001b[0mcommon\u001b[0m\u001b[0;34m.\u001b[0m\u001b[0mvalidate_is_mapping\u001b[0m\u001b[0;34m(\u001b[0m\u001b[0;34m\"spec\"\u001b[0m\u001b[0;34m,\u001b[0m \u001b[0mspec\u001b[0m\u001b[0;34m)\u001b[0m\u001b[0;34m\u001b[0m\u001b[0;34m\u001b[0m\u001b[0m\n\u001b[0m\u001b[1;32m   3198\u001b[0m         \u001b[0mcommon\u001b[0m\u001b[0;34m.\u001b[0m\u001b[0mvalidate_is_mapping\u001b[0m\u001b[0;34m(\u001b[0m\u001b[0;34m\"document\"\u001b[0m\u001b[0;34m,\u001b[0m \u001b[0mdocument\u001b[0m\u001b[0;34m)\u001b[0m\u001b[0;34m\u001b[0m\u001b[0;34m\u001b[0m\u001b[0m\n\u001b[1;32m   3199\u001b[0m         \u001b[0;32mif\u001b[0m \u001b[0mdocument\u001b[0m\u001b[0;34m:\u001b[0m\u001b[0;34m\u001b[0m\u001b[0;34m\u001b[0m\u001b[0m\n",
      "\u001b[0;32m//anaconda3/lib/python3.7/site-packages/pymongo/common.py\u001b[0m in \u001b[0;36mvalidate_is_mapping\u001b[0;34m(option, value)\u001b[0m\n\u001b[1;32m    472\u001b[0m         raise TypeError(\"%s must be an instance of dict, bson.son.SON, or \"\n\u001b[1;32m    473\u001b[0m                         \u001b[0;34m\"any other type that inherits from \"\u001b[0m\u001b[0;34m\u001b[0m\u001b[0;34m\u001b[0m\u001b[0m\n\u001b[0;32m--> 474\u001b[0;31m                         \"collections.Mapping\" % (option,))\n\u001b[0m\u001b[1;32m    475\u001b[0m \u001b[0;34m\u001b[0m\u001b[0m\n\u001b[1;32m    476\u001b[0m \u001b[0;34m\u001b[0m\u001b[0m\n",
      "\u001b[0;31mTypeError\u001b[0m: spec must be an instance of dict, bson.son.SON, or any other type that inherits from collections.Mapping"
     ]
    }
   ],
   "source": [
    "result = mycol.update(*mars_scrape)"
   ]
  },
  {
   "cell_type": "code",
   "execution_count": 30,
   "metadata": {},
   "outputs": [
    {
     "ename": "TypeError",
     "evalue": "update_many() missing 1 required positional argument: 'update'",
     "output_type": "error",
     "traceback": [
      "\u001b[0;31m---------------------------------------------------------------------------\u001b[0m",
      "\u001b[0;31mTypeError\u001b[0m                                 Traceback (most recent call last)",
      "\u001b[0;32m<ipython-input-30-d9ad136d6d41>\u001b[0m in \u001b[0;36m<module>\u001b[0;34m\u001b[0m\n\u001b[1;32m      1\u001b[0m result = mycol.update_many( \n\u001b[0;32m----> 2\u001b[0;31m         \u001b[0;34m{\u001b[0m\u001b[0;34m'mars_news'\u001b[0m\u001b[0;34m:\u001b[0m \u001b[0;34m\"NASA's Curiosity Rover Finds an Ancient Oasis on Mars\"\u001b[0m\u001b[0;34m,\u001b[0m \u001b[0;34m'mars_paragraph'\u001b[0m\u001b[0;34m:\u001b[0m \u001b[0;34m\"New evidence suggests salty, shallow ponds once dotted a Martian crater — a sign of the planet's drying climate.\"\u001b[0m\u001b[0;34m,\u001b[0m \u001b[0;34m'mars_image'\u001b[0m\u001b[0;34m:\u001b[0m \u001b[0;34m'https://www.jpl.nasa.gov/spaceimages/images/wallpaper/PIA23488-640x350.jpg'\u001b[0m\u001b[0;34m,\u001b[0m \u001b[0;34m'mars_weather'\u001b[0m\u001b[0;34m:\u001b[0m \u001b[0;34m'InSight sol 313 (2019-10-14) low -101.4ºC (-150.6ºF) high -27.2ºC (-16.9ºF)\\nwinds from the SSE at 5.5 m/s (12.4 mph) gusting to 22.5 m/s (50.3 mph)\\npressure at 7.20 hPapic.twitter.com/2moNAouxXa'\u001b[0m\u001b[0;34m,\u001b[0m \u001b[0;34m'mars_facts'\u001b[0m\u001b[0;34m:\u001b[0m \u001b[0;32mNone\u001b[0m\u001b[0;34m,\u001b[0m \u001b[0;34m'mars_hemisphere'\u001b[0m\u001b[0;34m:\u001b[0m \u001b[0;34m[\u001b[0m\u001b[0;34m'https://astrogeology.usgs.gov/search/map/Mars/Viking/cerberus_enhanced'\u001b[0m\u001b[0;34m,\u001b[0m \u001b[0;34m'https://astrogeology.usgs.gov/search/map/Mars/Viking/schiaparelli_enhanced'\u001b[0m\u001b[0;34m,\u001b[0m \u001b[0;34m'https://astrogeology.usgs.gov/search/map/Mars/Viking/syrtis_major_enhanced'\u001b[0m\u001b[0;34m,\u001b[0m \u001b[0;34m'https://astrogeology.usgs.gov/search/map/Mars/Viking/valles_marineris_enhanced'\u001b[0m\u001b[0;34m]\u001b[0m\u001b[0;34m}\u001b[0m\u001b[0;34m\u001b[0m\u001b[0;34m\u001b[0m\u001b[0m\n\u001b[0m\u001b[1;32m      3\u001b[0m         ) \n\u001b[1;32m      4\u001b[0m \u001b[0;34m\u001b[0m\u001b[0m\n\u001b[1;32m      5\u001b[0m \u001b[0;34m\u001b[0m\u001b[0m\n",
      "\u001b[0;31mTypeError\u001b[0m: update_many() missing 1 required positional argument: 'update'"
     ]
    }
   ],
   "source": [
    "result = mycol.update_many( \n",
    "        {'mars_news': \"NASA's Curiosity Rover Finds an Ancient Oasis on Mars\", 'mars_paragraph': \"New evidence suggests salty, shallow ponds once dotted a Martian crater — a sign of the planet's drying climate.\", 'mars_image': 'https://www.jpl.nasa.gov/spaceimages/images/wallpaper/PIA23488-640x350.jpg', 'mars_weather': 'InSight sol 313 (2019-10-14) low -101.4ºC (-150.6ºF) high -27.2ºC (-16.9ºF)\\nwinds from the SSE at 5.5 m/s (12.4 mph) gusting to 22.5 m/s (50.3 mph)\\npressure at 7.20 hPapic.twitter.com/2moNAouxXa', 'mars_facts': None, 'mars_hemisphere': ['https://astrogeology.usgs.gov/search/map/Mars/Viking/cerberus_enhanced', 'https://astrogeology.usgs.gov/search/map/Mars/Viking/schiaparelli_enhanced', 'https://astrogeology.usgs.gov/search/map/Mars/Viking/syrtis_major_enhanced', 'https://astrogeology.usgs.gov/search/map/Mars/Viking/valles_marineris_enhanced']} \n",
    "        ) \n",
    "  \n",
    "  \n",
    "  \n",
    "print(\"Data updated with id\",result) "
   ]
  },
  {
   "cell_type": "code",
   "execution_count": null,
   "metadata": {},
   "outputs": [],
   "source": [
    "#Test to confirm_________ \n",
    "#checkdata = mycol.find() \n",
    "#for record in checkdata: \n",
    "#    print(record)"
   ]
  },
  {
   "cell_type": "code",
   "execution_count": null,
   "metadata": {},
   "outputs": [],
   "source": []
  }
 ],
 "metadata": {
  "kernelspec": {
   "display_name": "Python 3",
   "language": "python",
   "name": "python3"
  },
  "language_info": {
   "codemirror_mode": {
    "name": "ipython",
    "version": 3
   },
   "file_extension": ".py",
   "mimetype": "text/x-python",
   "name": "python",
   "nbconvert_exporter": "python",
   "pygments_lexer": "ipython3",
   "version": "3.7.3"
  }
 },
 "nbformat": 4,
 "nbformat_minor": 2
}
